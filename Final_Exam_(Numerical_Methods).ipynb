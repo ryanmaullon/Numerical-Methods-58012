{
  "nbformat": 4,
  "nbformat_minor": 0,
  "metadata": {
    "colab": {
      "name": "Final Exam (Numerical Methods).ipynb",
      "provenance": [],
      "authorship_tag": "ABX9TyMVOE2ugVSP+YWMYIap7ll7",
      "include_colab_link": true
    },
    "kernelspec": {
      "name": "python3",
      "display_name": "Python 3"
    },
    "language_info": {
      "name": "python"
    }
  },
  "cells": [
    {
      "cell_type": "markdown",
      "metadata": {
        "id": "view-in-github",
        "colab_type": "text"
      },
      "source": [
        "<a href=\"https://colab.research.google.com/github/ryanmaullon/Numerical-Methods-58012/blob/main/Final_Exam_(Numerical_Methods).ipynb\" target=\"_parent\"><img src=\"https://colab.research.google.com/assets/colab-badge.svg\" alt=\"Open In Colab\"/></a>"
      ]
    },
    {
      "cell_type": "markdown",
      "source": [
        "Problem 3. Create a Python program that integrates the function f(x) = e^x  from x1=-1 to x2 = 1 as the interval. Save your program to your repository and send your GitHub link here. (30 points)"
      ],
      "metadata": {
        "id": "fBNRY_Qy6mW7"
      }
    },
    {
      "cell_type": "code",
      "execution_count": 6,
      "metadata": {
        "colab": {
          "base_uri": "https://localhost:8080/"
        },
        "id": "7b1CJwSUrROB",
        "outputId": "2c2ccbd8-09e8-4b49-b15c-023ab144d0b5"
      },
      "outputs": [
        {
          "output_type": "stream",
          "name": "stdout",
          "text": [
            "(2.3504023872876028, 2.609470847500631e-14)\n",
            "Integral ≈  2.3504023872876028\n"
          ]
        }
      ],
      "source": [
        "from scipy.integrate import quad\n",
        "from numpy import exp\n",
        "result = quad(lambda x: exp(x),-1,1)\n",
        "print(result)\n",
        "print('Integral ≈ ', result[0])"
      ]
    }
  ]
}